{
 "cells": [
  {
   "cell_type": "markdown",
   "id": "50a2a06d-19bb-4086-bb89-c12afb5da06a",
   "metadata": {},
   "source": [
    "# Exploration notebook - Best Model Pipeline"
   ]
  },
  {
   "cell_type": "markdown",
   "id": "fc91f764-7684-4167-9acf-67257e9c2787",
   "metadata": {
    "tags": []
   },
   "source": [
    "## Dependencies"
   ]
  },
  {
   "cell_type": "markdown",
   "id": "f27d746f-bc5a-408c-aaaa-ebce123d6d20",
   "metadata": {},
   "source": []
  },
  {
   "cell_type": "markdown",
   "id": "fda86a81-6beb-446c-a99b-d6238dc3d019",
   "metadata": {},
   "source": []
  },
  {
   "cell_type": "markdown",
   "id": "5276f46e-a84e-4195-b2f7-acc485e45ef9",
   "metadata": {
    "tags": []
   },
   "source": [
    "## Datasources"
   ]
  },
  {
   "cell_type": "markdown",
   "id": "35645e78-91e5-4a79-bcaf-99654b0941d6",
   "metadata": {},
   "source": [
    "Datasources for this notebooks are preprocessed dataframe (output from build_project.py)\n",
    "\n",
    "transformers.py module contain full preprocessing pipeline.\n",
    "\n",
    "Multiple preprocessing methodes was run :\n",
    "- undersampling\n",
    "- SMOTE\n",
    "- no preprocess balancing (for baseine and class_weight define on model-fit level hypothesis)"
   ]
  },
  {
   "cell_type": "code",
   "execution_count": null,
   "id": "ac43048c-2393-43e0-aaf0-4db60ba2a7ea",
   "metadata": {},
   "outputs": [],
   "source": []
  },
  {
   "cell_type": "code",
   "execution_count": null,
   "id": "13ff7e54-3d52-4ea3-9bf3-3d5c76124955",
   "metadata": {},
   "outputs": [],
   "source": []
  },
  {
   "cell_type": "code",
   "execution_count": null,
   "id": "8d8f60cd-2b43-48b9-8593-0e8e798228db",
   "metadata": {},
   "outputs": [],
   "source": []
  },
  {
   "cell_type": "markdown",
   "id": "4d3b1b2e-d158-4aa6-98a8-8a9f44acd602",
   "metadata": {},
   "source": [
    "## Best Balancing method ?"
   ]
  },
  {
   "cell_type": "code",
   "execution_count": null,
   "id": "f84919b2-c544-436e-9ecc-9a2c618bd068",
   "metadata": {},
   "outputs": [],
   "source": []
  },
  {
   "cell_type": "code",
   "execution_count": null,
   "id": "28ca026d-fe87-4fec-af43-72126b9b2215",
   "metadata": {},
   "outputs": [],
   "source": []
  },
  {
   "cell_type": "markdown",
   "id": "5c5c5ed8-098a-4516-8baa-5c63f88046d5",
   "metadata": {},
   "source": [
    "## Best Model ?"
   ]
  },
  {
   "cell_type": "code",
   "execution_count": null,
   "id": "8aa0171a-4fab-43dc-af7d-53901952a9dd",
   "metadata": {},
   "outputs": [],
   "source": []
  },
  {
   "cell_type": "code",
   "execution_count": null,
   "id": "fc80c3ff-4dc6-4d83-b273-39623d2f3999",
   "metadata": {},
   "outputs": [],
   "source": []
  },
  {
   "cell_type": "code",
   "execution_count": null,
   "id": "fd33362b-9f5d-4363-a3bd-d57b5e1bde55",
   "metadata": {},
   "outputs": [],
   "source": []
  }
 ],
 "metadata": {
  "kernelspec": {
   "display_name": "Python 3 (ipykernel)",
   "language": "python",
   "name": "python3"
  },
  "language_info": {
   "codemirror_mode": {
    "name": "ipython",
    "version": 3
   },
   "file_extension": ".py",
   "mimetype": "text/x-python",
   "name": "python",
   "nbconvert_exporter": "python",
   "pygments_lexer": "ipython3",
   "version": "3.8.3"
  }
 },
 "nbformat": 4,
 "nbformat_minor": 5
}
